{
 "cells": [
  {
   "cell_type": "code",
   "execution_count": 1,
   "id": "fitting-representative",
   "metadata": {},
   "outputs": [
    {
     "name": "stdout",
     "output_type": "stream",
     "text": [
      "pygame 2.0.1 (SDL 2.0.14, Python 3.9.2)\n",
      "Hello from the pygame community. https://www.pygame.org/contribute.html\n"
     ]
    }
   ],
   "source": [
    "from scipy.spatial import distance\n",
    "from imutils import face_utils\n",
    "import numpy as np\n",
    "import pygame #sound \n",
    "import time\n",
    "import dlib\n",
    "import cv2"
   ]
  },
  {
   "cell_type": "code",
   "execution_count": 2,
   "id": "primary-equality",
   "metadata": {},
   "outputs": [],
   "source": [
    "#load music\n",
    "pygame.mixer.init()\n",
    "pygame.mixer.music.load('audio/alert.wav')"
   ]
  },
  {
   "cell_type": "code",
   "execution_count": 3,
   "id": "waiting-liberty",
   "metadata": {},
   "outputs": [],
   "source": [
    "#Minimum threshold of eye aspect ratio below which alarm is triggerd\n",
    "EYE_ASPECT_RATIO_THRESHOLD = 0.3\n",
    "#Minimum consecutive frames for which eye ratio is below threshold for alarm to be triggered\n",
    "EYE_ASPECT_RATIO_CONSEC_FRAMES = 12\n",
    "#Counts no. of consecutuve frames below threshold value\n",
    "COUNTER = 0\n",
    "#Load face cascade which will be used to draw a rectangle around detected faces.\n",
    "face_cascade = cv2.CascadeClassifier(\"haarcascades/haarcascade_frontalface_default.xml\")"
   ]
  },
  {
   "cell_type": "code",
   "execution_count": 4,
   "id": "unknown-techno",
   "metadata": {},
   "outputs": [],
   "source": [
    "#This function calculates and return eye aspect ratio\n",
    "def eye_aspect_ratio(eye):\n",
    "    A = distance.euclidean(eye[1], eye[5])\n",
    "    B = distance.euclidean(eye[2], eye[4])\n",
    "    C = distance.euclidean(eye[0], eye[3])\n",
    "\n",
    "    ear = (A+B) / (2*C)\n",
    "    return ear\n",
    "\n",
    "detector = dlib.get_frontal_face_detector()\n",
    "#dlib shape predictor file\n",
    "predictor = dlib.shape_predictor('shape_predictor_68_face_landmarks.dat')\n",
    "\n",
    "(lStart, lEnd) = face_utils.FACIAL_LANDMARKS_IDXS['left_eye']\n",
    "(rStart, rEnd) = face_utils.FACIAL_LANDMARKS_IDXS['right_eye']\n",
    "#start webcam\n",
    "video_capture = cv2.VideoCapture(0)\n",
    "#Give some time for camera to initialize(not required)\n",
    "time.sleep(2)\n",
    "\n",
    "while(True):\n",
    "    ret, frame = video_capture.read()\n",
    "    frame = cv2.flip(frame,1)\n",
    "    gray = cv2.cvtColor(frame, cv2.COLOR_BGR2GRAY)\n",
    "\n",
    "    faces = detector(gray, 0)\n",
    "\n",
    "    face_rectangle = face_cascade.detectMultiScale(gray, 1.3, 5)\n",
    "\n",
    "    for (x,y,w,h) in face_rectangle:\n",
    "        cv2.rectangle(frame,(x,y),(x+w,y+h),(255,0,0),2)\n",
    "\n",
    "    for face in faces:\n",
    "\n",
    "        shape = predictor(gray, face)\n",
    "        shape = face_utils.shape_to_np(shape)\n",
    "\n",
    "        leftEye = shape[lStart:lEnd]\n",
    "        rightEye = shape[rStart:rEnd]\n",
    "\n",
    "        leftEyeAspectRatio = eye_aspect_ratio(leftEye)\n",
    "        rightEyeAspectRatio = eye_aspect_ratio(rightEye)\n",
    "\n",
    "        eyeAspectRatio = (leftEyeAspectRatio + rightEyeAspectRatio) / 2\n",
    "\n",
    "        leftEyeHull = cv2.convexHull(leftEye)\n",
    "        rightEyeHull = cv2.convexHull(rightEye)\n",
    "        cv2.drawContours(frame, [leftEyeHull], -1, (0, 255, 0), 1)\n",
    "        cv2.drawContours(frame, [rightEyeHull], -1, (0, 255, 0), 1)\n",
    "        #Detect if eye aspect ratio is less than threshold\n",
    "        if(eyeAspectRatio < EYE_ASPECT_RATIO_THRESHOLD):\n",
    "            COUNTER += 1\n",
    "                        #If no. of frames is greater than threshold frames\n",
    "            if COUNTER >= EYE_ASPECT_RATIO_CONSEC_FRAMES:\n",
    "                pygame.mixer.music.play(-1)\n",
    "                cv2.putText(frame, \"Drowsy Person\", (150,200), cv2.FONT_HERSHEY_SIMPLEX, 1.5, (0,0,255), 2)\n",
    "        else:\n",
    "            pygame.mixer.music.stop()\n",
    "            COUNTER = 0\n",
    "\n",
    "    #Show video feed\n",
    "    cv2.imshow('Video', frame)\n",
    "    if(cv2.waitKey(1) & 0xFF == ord('q')):\n",
    "        break\n",
    "\n",
    "video_capture.release()\n",
    "cv2.destroyAllWindows()\n"
   ]
  }
 ],
 "metadata": {
  "kernelspec": {
   "display_name": "Python 3",
   "language": "python",
   "name": "python3"
  },
  "language_info": {
   "codemirror_mode": {
    "name": "ipython",
    "version": 3
   },
   "file_extension": ".py",
   "mimetype": "text/x-python",
   "name": "python",
   "nbconvert_exporter": "python",
   "pygments_lexer": "ipython3",
   "version": "3.9.2"
  }
 },
 "nbformat": 4,
 "nbformat_minor": 5
}
